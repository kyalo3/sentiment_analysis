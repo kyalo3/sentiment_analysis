{
 "cells": [
  {
   "cell_type": "code",
   "execution_count": 1,
   "id": "8462439e-8273-41fe-bd5f-2fafac1be970",
   "metadata": {},
   "outputs": [
    {
     "name": "stdout",
     "output_type": "stream",
     "text": [
      "Defaulting to user installation because normal site-packages is not writeable\n",
      "Requirement already satisfied: wordcloud in /home/kyalo/.local/lib/python3.10/site-packages (1.9.3)\n",
      "Requirement already satisfied: matplotlib in /usr/lib/python3/dist-packages (from wordcloud) (3.5.1)\n",
      "Requirement already satisfied: pillow in /usr/lib/python3/dist-packages (from wordcloud) (9.0.1)\n",
      "Requirement already satisfied: numpy>=1.6.1 in /home/kyalo/.local/lib/python3.10/site-packages (from wordcloud) (1.24.0)\n",
      "Note: you may need to restart the kernel to use updated packages.\n"
     ]
    }
   ],
   "source": [
    "pip install wordcloud"
   ]
  },
  {
   "cell_type": "code",
   "execution_count": 2,
   "id": "1bd8940f-8747-4990-aa11-1492a1b4e71b",
   "metadata": {},
   "outputs": [
    {
     "name": "stdout",
     "output_type": "stream",
     "text": [
      "Defaulting to user installation because normal site-packages is not writeable\n",
      "Requirement already satisfied: textblob in /home/kyalo/.local/lib/python3.10/site-packages (0.18.0.post0)\n",
      "Requirement already satisfied: nltk>=3.8 in /usr/local/lib/python3.10/dist-packages (from textblob) (3.8.1)\n",
      "Requirement already satisfied: regex>=2021.8.3 in /usr/local/lib/python3.10/dist-packages (from nltk>=3.8->textblob) (2023.12.25)\n",
      "Requirement already satisfied: tqdm in /usr/local/lib/python3.10/dist-packages (from nltk>=3.8->textblob) (4.66.2)\n",
      "Requirement already satisfied: click in /home/kyalo/.local/lib/python3.10/site-packages (from nltk>=3.8->textblob) (8.1.7)\n",
      "Requirement already satisfied: joblib in /usr/local/lib/python3.10/dist-packages (from nltk>=3.8->textblob) (1.3.2)\n",
      "Note: you may need to restart the kernel to use updated packages.\n"
     ]
    }
   ],
   "source": [
    "pip install textblob"
   ]
  },
  {
   "cell_type": "code",
   "execution_count": 3,
   "id": "97f8a923-3de7-4d5b-905d-57e41b99800b",
   "metadata": {},
   "outputs": [],
   "source": [
    "from warnings import filterwarnings\n",
    "import matplotlib.pyplot as plt\n",
    "import numpy as np\n",
    "import pandas as pd\n",
    "from PIL import Image\n",
    "from nltk.corpus import stopwords\n",
    "from nltk.sentiment import SentimentIntensityAnalyzer\n",
    "from sklearn.ensemble import RandomForestClassifier\n",
    "from sklearn.linear_model import LogisticRegression\n",
    "from sklearn.model_selection import cross_val_score, GridSearchCV, cross_validate\n",
    "from sklearn.preprocessing import LabelEncoder\n",
    "from textblob import Word, TextBlob\n",
    "from wordcloud import WordCloud\n",
    "from nltk.stem.porter import PorterStemmer\n",
    "from nltk.tokenize import word_tokenize\n",
    "from nltk import pos_tag\n",
    "\n",
    "filterwarnings('ignore')\n",
    "pd.set_option('display.max_columns', None)\n",
    "pd.set_option('display.width', 200)\n",
    "pd.set_option('display.float_format', lambda x: '%.2f' % x)"
   ]
  },
  {
   "cell_type": "code",
   "execution_count": 4,
   "id": "f3f99e05-5ac1-43dd-a557-43239bf5d7f5",
   "metadata": {},
   "outputs": [
    {
     "data": {
      "text/html": [
       "<div>\n",
       "<style scoped>\n",
       "    .dataframe tbody tr th:only-of-type {\n",
       "        vertical-align: middle;\n",
       "    }\n",
       "\n",
       "    .dataframe tbody tr th {\n",
       "        vertical-align: top;\n",
       "    }\n",
       "\n",
       "    .dataframe thead th {\n",
       "        text-align: right;\n",
       "    }\n",
       "</style>\n",
       "<table border=\"1\" class=\"dataframe\">\n",
       "  <thead>\n",
       "    <tr style=\"text-align: right;\">\n",
       "      <th></th>\n",
       "      <th>reviewerID</th>\n",
       "      <th>asin</th>\n",
       "      <th>reviewerName</th>\n",
       "      <th>helpful</th>\n",
       "      <th>reviewText</th>\n",
       "      <th>overall</th>\n",
       "      <th>summary</th>\n",
       "      <th>unixReviewTime</th>\n",
       "      <th>reviewTime</th>\n",
       "      <th>day_diff</th>\n",
       "      <th>helpful_yes</th>\n",
       "      <th>total_vote</th>\n",
       "    </tr>\n",
       "  </thead>\n",
       "  <tbody>\n",
       "    <tr>\n",
       "      <th>0</th>\n",
       "      <td>A3SBTW3WS4IQSN</td>\n",
       "      <td>B007WTAJTO</td>\n",
       "      <td>NaN</td>\n",
       "      <td>[0, 0]</td>\n",
       "      <td>No issues.</td>\n",
       "      <td>4.00</td>\n",
       "      <td>Four Stars</td>\n",
       "      <td>1406073600</td>\n",
       "      <td>2014-07-23</td>\n",
       "      <td>138</td>\n",
       "      <td>0</td>\n",
       "      <td>0</td>\n",
       "    </tr>\n",
       "    <tr>\n",
       "      <th>1</th>\n",
       "      <td>A18K1ODH1I2MVB</td>\n",
       "      <td>B007WTAJTO</td>\n",
       "      <td>0mie</td>\n",
       "      <td>[0, 0]</td>\n",
       "      <td>Purchased this for my device, it worked as adv...</td>\n",
       "      <td>5.00</td>\n",
       "      <td>MOAR SPACE!!!</td>\n",
       "      <td>1382659200</td>\n",
       "      <td>2013-10-25</td>\n",
       "      <td>409</td>\n",
       "      <td>0</td>\n",
       "      <td>0</td>\n",
       "    </tr>\n",
       "    <tr>\n",
       "      <th>2</th>\n",
       "      <td>A2FII3I2MBMUIA</td>\n",
       "      <td>B007WTAJTO</td>\n",
       "      <td>1K3</td>\n",
       "      <td>[0, 0]</td>\n",
       "      <td>it works as expected. I should have sprung for...</td>\n",
       "      <td>4.00</td>\n",
       "      <td>nothing to really say....</td>\n",
       "      <td>1356220800</td>\n",
       "      <td>2012-12-23</td>\n",
       "      <td>715</td>\n",
       "      <td>0</td>\n",
       "      <td>0</td>\n",
       "    </tr>\n",
       "    <tr>\n",
       "      <th>3</th>\n",
       "      <td>A3H99DFEG68SR</td>\n",
       "      <td>B007WTAJTO</td>\n",
       "      <td>1m2</td>\n",
       "      <td>[0, 0]</td>\n",
       "      <td>This think has worked out great.Had a diff. br...</td>\n",
       "      <td>5.00</td>\n",
       "      <td>Great buy at this price!!!  *** UPDATE</td>\n",
       "      <td>1384992000</td>\n",
       "      <td>2013-11-21</td>\n",
       "      <td>382</td>\n",
       "      <td>0</td>\n",
       "      <td>0</td>\n",
       "    </tr>\n",
       "    <tr>\n",
       "      <th>4</th>\n",
       "      <td>A375ZM4U047O79</td>\n",
       "      <td>B007WTAJTO</td>\n",
       "      <td>2&amp;amp;1/2Men</td>\n",
       "      <td>[0, 0]</td>\n",
       "      <td>Bought it with Retail Packaging, arrived legit...</td>\n",
       "      <td>5.00</td>\n",
       "      <td>best deal around</td>\n",
       "      <td>1373673600</td>\n",
       "      <td>2013-07-13</td>\n",
       "      <td>513</td>\n",
       "      <td>0</td>\n",
       "      <td>0</td>\n",
       "    </tr>\n",
       "  </tbody>\n",
       "</table>\n",
       "</div>"
      ],
      "text/plain": [
       "       reviewerID        asin  reviewerName helpful                                         reviewText  overall                                 summary  unixReviewTime  reviewTime  day_diff  \\\n",
       "0  A3SBTW3WS4IQSN  B007WTAJTO           NaN  [0, 0]                                         No issues.     4.00                              Four Stars      1406073600  2014-07-23       138   \n",
       "1  A18K1ODH1I2MVB  B007WTAJTO          0mie  [0, 0]  Purchased this for my device, it worked as adv...     5.00                           MOAR SPACE!!!      1382659200  2013-10-25       409   \n",
       "2  A2FII3I2MBMUIA  B007WTAJTO           1K3  [0, 0]  it works as expected. I should have sprung for...     4.00               nothing to really say....      1356220800  2012-12-23       715   \n",
       "3   A3H99DFEG68SR  B007WTAJTO           1m2  [0, 0]  This think has worked out great.Had a diff. br...     5.00  Great buy at this price!!!  *** UPDATE      1384992000  2013-11-21       382   \n",
       "4  A375ZM4U047O79  B007WTAJTO  2&amp;1/2Men  [0, 0]  Bought it with Retail Packaging, arrived legit...     5.00                        best deal around      1373673600  2013-07-13       513   \n",
       "\n",
       "   helpful_yes  total_vote  \n",
       "0            0           0  \n",
       "1            0           0  \n",
       "2            0           0  \n",
       "3            0           0  \n",
       "4            0           0  "
      ]
     },
     "execution_count": 4,
     "metadata": {},
     "output_type": "execute_result"
    }
   ],
   "source": [
    "df=pd.read_csv(\"amazon_reviews.csv\")\n",
    "df.head()"
   ]
  },
  {
   "cell_type": "code",
   "execution_count": 5,
   "id": "571ca942-4fe3-4508-a55d-1d6ac6b7ffa0",
   "metadata": {},
   "outputs": [],
   "source": [
    "#converting text to lowercase\n",
    "df['reviewText'] = df['reviewText'].str.lower()\n",
    "\n",
    "# Punctuations\n",
    "df['reviewText'] = df['reviewText'].str.replace('[^\\w\\s]', '')\n",
    "\n",
    "# Numbers\n",
    "df['reviewText'] = df['reviewText'].str.replace('\\d', '')"
   ]
  },
  {
   "cell_type": "code",
   "execution_count": 6,
   "id": "90bc493d-a5b2-4655-b690-8a21f0273dca",
   "metadata": {},
   "outputs": [
    {
     "name": "stderr",
     "output_type": "stream",
     "text": [
      "[nltk_data] Downloading package stopwords to /home/kyalo/nltk_data...\n",
      "[nltk_data]   Package stopwords is already up-to-date!\n"
     ]
    }
   ],
   "source": [
    "# STOPWORDS\n",
    "import nltk\n",
    "nltk.download('stopwords')\n",
    "sw = stopwords.words('english')\n",
    "df['reviewText'] = df['reviewText'].apply(lambda x: \" \".join(x for x in str(x).split() if x not in sw))"
   ]
  },
  {
   "cell_type": "code",
   "execution_count": 7,
   "id": "bf5d52e7-91ef-4cdd-9ded-9e2226b6229b",
   "metadata": {},
   "outputs": [],
   "source": [
    "# Rarewords\n",
    "\n",
    "drops = pd.Series(' '.join(df['reviewText']).split()).value_counts()[-1000:]\n",
    "df['reviewText'] = df['reviewText'].apply(lambda x: \" \".join(x for x in x.split() if x not in drops))"
   ]
  },
  {
   "cell_type": "code",
   "execution_count": 8,
   "id": "2b4753c6-78e3-4661-8dcb-a54c0d087796",
   "metadata": {},
   "outputs": [
    {
     "data": {
      "text/plain": [
       "0                                             [issues]\n",
       "1    [purchased, device, worked, advertised, never,...\n",
       "2    [works, expected, sprung, higher, capacity, th...\n",
       "3    [think, worked, great.had, diff, bran, 64gb, c...\n",
       "4    [bought, retail, packaging, arrived, legit, or...\n",
       "Name: reviewText, dtype: object"
      ]
     },
     "execution_count": 8,
     "metadata": {},
     "output_type": "execute_result"
    }
   ],
   "source": [
    "# TOKENIZATION\n",
    "\n",
    "# nltk.download(\"punkt\")\n",
    "df[\"reviewText\"].apply(lambda x: TextBlob(x).words).head()"
   ]
  },
  {
   "cell_type": "code",
   "execution_count": 10,
   "id": "85024dda-d036-4ef5-8f8a-9975bc750c2d",
   "metadata": {},
   "outputs": [
    {
     "name": "stderr",
     "output_type": "stream",
     "text": [
      "[nltk_data] Downloading package wordnet to /home/kyalo/nltk_data...\n"
     ]
    },
    {
     "data": {
      "text/plain": [
       "True"
      ]
     },
     "execution_count": 10,
     "metadata": {},
     "output_type": "execute_result"
    }
   ],
   "source": [
    "import nltk\n",
    "nltk.download('wordnet')"
   ]
  },
  {
   "cell_type": "code",
   "execution_count": 11,
   "id": "25026471-08a7-4328-8087-4fd43fb1825c",
   "metadata": {},
   "outputs": [
    {
     "data": {
      "text/plain": [
       "0                                              issues.\n",
       "1    purchased device, worked advertised. never muc...\n",
       "2    work expected. sprung higher capacity. think m...\n",
       "3    think worked great.had diff. bran 64gb card we...\n",
       "4    bought retail packaging, arrived legit, orange...\n",
       "5    mini storage. anything else supposed to. purch...\n",
       "6    phone never skip beat. file transfer speedy co...\n",
       "7    hard believe affordable digital become. 32 gb ...\n",
       "8    work htc rezound. running short space 64gb san...\n",
       "9    galaxy s4, super fast card, totally happy, hap...\n",
       "Name: reviewText, dtype: object"
      ]
     },
     "execution_count": 11,
     "metadata": {},
     "output_type": "execute_result"
    }
   ],
   "source": [
    "# LEMMATIZATION\n",
    "\n",
    "# nltk.download('wordnet')\n",
    "df['reviewText'] = df['reviewText'].apply(lambda x: \" \".join([Word(word).lemmatize() for word in x.split()]))\n",
    "\n",
    "df['reviewText'].head(10)"
   ]
  },
  {
   "cell_type": "code",
   "execution_count": 12,
   "id": "0ae4ca33-247a-49f0-9142-41d5af07b511",
   "metadata": {},
   "outputs": [
    {
     "data": {
      "text/plain": [
       "0                                              issues.\n",
       "1    purchas device, work advertised. never much ph...\n",
       "2    work expected. sprung higher capacity. think m...\n",
       "3    think work great.had diff. bran 64gb card went...\n",
       "4    bought retail packaging, arriv legit, orang en...\n",
       "5    mini storage. anyth els suppos to. purchas add...\n",
       "6    phone never skip beat. file transfer speedi co...\n",
       "7    hard believ afford digit become. 32 gb devic o...\n",
       "8    work htc rezound. run short space 64gb sandisk...\n",
       "9    galaxi s4, super fast card, total happy, happi...\n",
       "Name: reviewText, dtype: object"
      ]
     },
     "execution_count": 12,
     "metadata": {},
     "output_type": "execute_result"
    }
   ],
   "source": [
    "#STEMMING\n",
    "# create an instance of PorterStemmer\n",
    "porter = PorterStemmer()\n",
    "\n",
    "# define a function to apply stemming to each word in a sentence\n",
    "def stem_words(text):\n",
    "    return \" \".join([porter.stem(word) for word in text.split()])\n",
    "\n",
    "# apply stemming to the 'reviewText' column in your DataFrame\n",
    "df['reviewText'] = df['reviewText'].apply(stem_words)\n",
    "\n",
    "# display the first 10 rows of the 'reviewText' column\n",
    "df['reviewText'].head(10)"
   ]
  },
  {
   "cell_type": "code",
   "execution_count": 13,
   "id": "98f5d482-ff40-4469-8211-062b57ecb056",
   "metadata": {},
   "outputs": [
    {
     "data": {
      "text/html": [
       "<div>\n",
       "<style scoped>\n",
       "    .dataframe tbody tr th:only-of-type {\n",
       "        vertical-align: middle;\n",
       "    }\n",
       "\n",
       "    .dataframe tbody tr th {\n",
       "        vertical-align: top;\n",
       "    }\n",
       "\n",
       "    .dataframe thead th {\n",
       "        text-align: right;\n",
       "    }\n",
       "</style>\n",
       "<table border=\"1\" class=\"dataframe\">\n",
       "  <thead>\n",
       "    <tr style=\"text-align: right;\">\n",
       "      <th></th>\n",
       "      <th>words</th>\n",
       "      <th>tf</th>\n",
       "    </tr>\n",
       "  </thead>\n",
       "  <tbody>\n",
       "    <tr>\n",
       "      <th>0</th>\n",
       "      <td>issues.</td>\n",
       "      <td>2.00</td>\n",
       "    </tr>\n",
       "    <tr>\n",
       "      <th>1</th>\n",
       "      <td>purchas device, work advertised. never much ph...</td>\n",
       "      <td>1.00</td>\n",
       "    </tr>\n",
       "    <tr>\n",
       "      <th>2</th>\n",
       "      <td>work expected. sprung higher capacity. think m...</td>\n",
       "      <td>1.00</td>\n",
       "    </tr>\n",
       "    <tr>\n",
       "      <th>3</th>\n",
       "      <td>think work great.had diff. bran 64gb card went...</td>\n",
       "      <td>1.00</td>\n",
       "    </tr>\n",
       "    <tr>\n",
       "      <th>4</th>\n",
       "      <td>bought retail packaging, arriv legit, orang en...</td>\n",
       "      <td>1.00</td>\n",
       "    </tr>\n",
       "  </tbody>\n",
       "</table>\n",
       "</div>"
      ],
      "text/plain": [
       "                                               words   tf\n",
       "0                                            issues. 2.00\n",
       "1  purchas device, work advertised. never much ph... 1.00\n",
       "2  work expected. sprung higher capacity. think m... 1.00\n",
       "3  think work great.had diff. bran 64gb card went... 1.00\n",
       "4  bought retail packaging, arriv legit, orang en... 1.00"
      ]
     },
     "execution_count": 13,
     "metadata": {},
     "output_type": "execute_result"
    }
   ],
   "source": [
    "#term frequency\n",
    "\n",
    "tf = df[\"reviewText\"].apply(lambda x: pd.Series(x).value_counts()).sum(axis=0).reset_index()\n",
    "tf.columns = [\"words\", \"tf\"]\n",
    "tf.head()"
   ]
  },
  {
   "cell_type": "code",
   "execution_count": 14,
   "id": "3446e9a5-c615-445d-bb3c-3a8fd87c6cb0",
   "metadata": {},
   "outputs": [
    {
     "data": {
      "text/plain": [
       "(4913, 2)"
      ]
     },
     "execution_count": 14,
     "metadata": {},
     "output_type": "execute_result"
    }
   ],
   "source": [
    "tf.shape"
   ]
  },
  {
   "cell_type": "code",
   "execution_count": 15,
   "id": "e5dacf28-97b7-413f-bf7e-74a32c4ee6d7",
   "metadata": {},
   "outputs": [
    {
     "data": {
      "text/plain": [
       "count   4913.00\n",
       "mean       1.00\n",
       "std        0.02\n",
       "min        1.00\n",
       "5%         1.00\n",
       "10%        1.00\n",
       "25%        1.00\n",
       "50%        1.00\n",
       "75%        1.00\n",
       "80%        1.00\n",
       "90%        1.00\n",
       "95%        1.00\n",
       "99%        1.00\n",
       "max        2.00\n",
       "Name: tf, dtype: float64"
      ]
     },
     "execution_count": 15,
     "metadata": {},
     "output_type": "execute_result"
    }
   ],
   "source": [
    "tf[\"tf\"].describe([0.05, 0.10, 0.25, 0.50, 0.75, 0.80, 0.90, 0.95, 0.99]).T"
   ]
  },
  {
   "cell_type": "code",
   "execution_count": 16,
   "id": "2a0af4d6-2522-4480-9b67-45299bc98826",
   "metadata": {},
   "outputs": [
    {
     "data": {
      "image/png": "[encoded data removed]",
      "text/plain": [
       "<Figure size 432x288 with 1 Axes>"
      ]
     },
     "metadata": {
      "needs_background": "light"
     },
     "output_type": "display_data"
    }
   ],
   "source": [
    "# Barplot\n",
    "\n",
    "tf[tf[\"tf\"] > 1].plot.bar(x=\"words\", y=\"tf\")\n",
    "plt.show()"
   ]
  },
  {
   "cell_type": "code",
   "execution_count": 35,
   "id": "cd6261c5-6c46-4628-a605-f149373b2b21",
   "metadata": {},
   "outputs": [
    {
     "data": {
      "text/html": [
       "<div>\n",
       "<style scoped>\n",
       "    .dataframe tbody tr th:only-of-type {\n",
       "        vertical-align: middle;\n",
       "    }\n",
       "\n",
       "    .dataframe tbody tr th {\n",
       "        vertical-align: top;\n",
       "    }\n",
       "\n",
       "    .dataframe thead th {\n",
       "        text-align: right;\n",
       "    }\n",
       "</style>\n",
       "<table border=\"1\" class=\"dataframe\">\n",
       "  <thead>\n",
       "    <tr style=\"text-align: right;\">\n",
       "      <th></th>\n",
       "      <th>reviewerID</th>\n",
       "      <th>asin</th>\n",
       "      <th>reviewerName</th>\n",
       "      <th>helpful</th>\n",
       "      <th>reviewText</th>\n",
       "      <th>overall</th>\n",
       "      <th>summary</th>\n",
       "      <th>unixReviewTime</th>\n",
       "      <th>reviewTime</th>\n",
       "      <th>day_diff</th>\n",
       "      <th>helpful_yes</th>\n",
       "      <th>total_vote</th>\n",
       "    </tr>\n",
       "  </thead>\n",
       "  <tbody>\n",
       "    <tr>\n",
       "      <th>0</th>\n",
       "      <td>A3SBTW3WS4IQSN</td>\n",
       "      <td>B007WTAJTO</td>\n",
       "      <td>NaN</td>\n",
       "      <td>[0, 0]</td>\n",
       "      <td>issues.</td>\n",
       "      <td>4.00</td>\n",
       "      <td>Four Stars</td>\n",
       "      <td>1406073600</td>\n",
       "      <td>2014-07-23</td>\n",
       "      <td>138</td>\n",
       "      <td>0</td>\n",
       "      <td>0</td>\n",
       "    </tr>\n",
       "    <tr>\n",
       "      <th>1</th>\n",
       "      <td>A18K1ODH1I2MVB</td>\n",
       "      <td>B007WTAJTO</td>\n",
       "      <td>0mie</td>\n",
       "      <td>[0, 0]</td>\n",
       "      <td>purchas device, work advertised. never much ph...</td>\n",
       "      <td>5.00</td>\n",
       "      <td>MOAR SPACE!!!</td>\n",
       "      <td>1382659200</td>\n",
       "      <td>2013-10-25</td>\n",
       "      <td>409</td>\n",
       "      <td>0</td>\n",
       "      <td>0</td>\n",
       "    </tr>\n",
       "    <tr>\n",
       "      <th>2</th>\n",
       "      <td>A2FII3I2MBMUIA</td>\n",
       "      <td>B007WTAJTO</td>\n",
       "      <td>1K3</td>\n",
       "      <td>[0, 0]</td>\n",
       "      <td>work expected. sprung higher capacity. think m...</td>\n",
       "      <td>4.00</td>\n",
       "      <td>nothing to really say....</td>\n",
       "      <td>1356220800</td>\n",
       "      <td>2012-12-23</td>\n",
       "      <td>715</td>\n",
       "      <td>0</td>\n",
       "      <td>0</td>\n",
       "    </tr>\n",
       "    <tr>\n",
       "      <th>3</th>\n",
       "      <td>A3H99DFEG68SR</td>\n",
       "      <td>B007WTAJTO</td>\n",
       "      <td>1m2</td>\n",
       "      <td>[0, 0]</td>\n",
       "      <td>think work great.had diff. bran 64gb card went...</td>\n",
       "      <td>5.00</td>\n",
       "      <td>Great buy at this price!!!  *** UPDATE</td>\n",
       "      <td>1384992000</td>\n",
       "      <td>2013-11-21</td>\n",
       "      <td>382</td>\n",
       "      <td>0</td>\n",
       "      <td>0</td>\n",
       "    </tr>\n",
       "    <tr>\n",
       "      <th>4</th>\n",
       "      <td>A375ZM4U047O79</td>\n",
       "      <td>B007WTAJTO</td>\n",
       "      <td>2&amp;amp;1/2Men</td>\n",
       "      <td>[0, 0]</td>\n",
       "      <td>bought retail packaging, arriv legit, orang en...</td>\n",
       "      <td>5.00</td>\n",
       "      <td>best deal around</td>\n",
       "      <td>1373673600</td>\n",
       "      <td>2013-07-13</td>\n",
       "      <td>513</td>\n",
       "      <td>0</td>\n",
       "      <td>0</td>\n",
       "    </tr>\n",
       "  </tbody>\n",
       "</table>\n",
       "</div>"
      ],
      "text/plain": [
       "       reviewerID        asin  reviewerName helpful                                         reviewText  overall                                 summary  unixReviewTime  reviewTime  day_diff  \\\n",
       "0  A3SBTW3WS4IQSN  B007WTAJTO           NaN  [0, 0]                                            issues.     4.00                              Four Stars      1406073600  2014-07-23       138   \n",
       "1  A18K1ODH1I2MVB  B007WTAJTO          0mie  [0, 0]  purchas device, work advertised. never much ph...     5.00                           MOAR SPACE!!!      1382659200  2013-10-25       409   \n",
       "2  A2FII3I2MBMUIA  B007WTAJTO           1K3  [0, 0]  work expected. sprung higher capacity. think m...     4.00               nothing to really say....      1356220800  2012-12-23       715   \n",
       "3   A3H99DFEG68SR  B007WTAJTO           1m2  [0, 0]  think work great.had diff. bran 64gb card went...     5.00  Great buy at this price!!!  *** UPDATE      1384992000  2013-11-21       382   \n",
       "4  A375ZM4U047O79  B007WTAJTO  2&amp;1/2Men  [0, 0]  bought retail packaging, arriv legit, orang en...     5.00                        best deal around      1373673600  2013-07-13       513   \n",
       "\n",
       "   helpful_yes  total_vote  \n",
       "0            0           0  \n",
       "1            0           0  \n",
       "2            0           0  \n",
       "3            0           0  \n",
       "4            0           0  "
      ]
     },
     "execution_count": 35,
     "metadata": {},
     "output_type": "execute_result"
    }
   ],
   "source": [
    "df.head()"
   ]
  },
  {
   "cell_type": "code",
   "execution_count": 36,
   "id": "ffd219a6-bb0c-47eb-9abf-bee6e9061b6c",
   "metadata": {},
   "outputs": [
    {
     "name": "stderr",
     "output_type": "stream",
     "text": [
      "[nltk_data] Downloading package vader_lexicon to\n",
      "[nltk_data]     /home/kyalo/nltk_data...\n"
     ]
    }
   ],
   "source": [
    "nltk.download('vader_lexicon')\n",
    "sia = SentimentIntensityAnalyzer()"
   ]
  },
  {
   "cell_type": "code",
   "execution_count": 37,
   "id": "f7083428-6050-44cc-9f2a-b8148f221586",
   "metadata": {},
   "outputs": [
    {
     "data": {
      "text/plain": [
       "{'neg': 0.0, 'neu': 0.423, 'pos': 0.577, 'compound': 0.6249}"
      ]
     },
     "execution_count": 37,
     "metadata": {},
     "output_type": "execute_result"
    }
   ],
   "source": [
    "sia.polarity_scores(\"The film was awesome\")"
   ]
  },
  {
   "cell_type": "code",
   "execution_count": 38,
   "id": "f3486a71-b6c8-4e07-a28e-dcccf8cad73a",
   "metadata": {},
   "outputs": [
    {
     "data": {
      "text/plain": [
       "{'neg': 0.207, 'neu': 0.666, 'pos': 0.127, 'compound': -0.298}"
      ]
     },
     "execution_count": 38,
     "metadata": {},
     "output_type": "execute_result"
    }
   ],
   "source": [
    "sia.polarity_scores(\"I liked this music but it is not good as the other one\")"
   ]
  },
  {
   "cell_type": "code",
   "execution_count": 39,
   "id": "5f846e01-41a3-4a18-8f0a-23425e83326a",
   "metadata": {},
   "outputs": [
    {
     "data": {
      "text/plain": [
       "0                                                 ISSUES.\n",
       "1       PURCHAS DEVICE, WORK ADVERTISED. NEVER MUCH PH...\n",
       "2       WORK EXPECTED. SPRUNG HIGHER CAPACITY. THINK M...\n",
       "3       THINK WORK GREAT.HAD DIFF. BRAN 64GB CARD WENT...\n",
       "4       BOUGHT RETAIL PACKAGING, ARRIV LEGIT, ORANG EN...\n",
       "                              ...                        \n",
       "4910    BOUGHT SANDISK 16GB CLASS 10 USE HTC INSPIRE, ...\n",
       "4911    USE EXTEND CAPABL SAMSUNG GALAXI NOTE 10. GREA...\n",
       "4912    GREAT CARD FAST RELIABLE. COME OPTION ADAPT SD...\n",
       "4913     GOOD AMOUNT SPACE STUFF WANT DO, FIT GOPRO. SAY?\n",
       "4914    I'V HEARD BAD THING 64GB MICRO SD CARD CRAP WE...\n",
       "Name: reviewText, Length: 4915, dtype: object"
      ]
     },
     "execution_count": 39,
     "metadata": {},
     "output_type": "execute_result"
    }
   ],
   "source": [
    "df[\"reviewText\"].apply(lambda x: x.upper())"
   ]
  },
  {
   "cell_type": "code",
   "execution_count": 40,
   "id": "6669ccb1-c065-45bb-bcf9-1e6439065bd2",
   "metadata": {},
   "outputs": [
    {
     "data": {
      "text/plain": [
       "0    {'neg': 0.0, 'neu': 1.0, 'pos': 0.0, 'compound...\n",
       "1    {'neg': 0.0, 'neu': 1.0, 'pos': 0.0, 'compound...\n",
       "2    {'neg': 0.0, 'neu': 0.828, 'pos': 0.172, 'comp...\n",
       "3    {'neg': 0.0, 'neu': 0.915, 'pos': 0.085, 'comp...\n",
       "4    {'neg': 0.0, 'neu': 0.771, 'pos': 0.229, 'comp...\n",
       "5    {'neg': 0.0, 'neu': 1.0, 'pos': 0.0, 'compound...\n",
       "6    {'neg': 0.108, 'neu': 0.674, 'pos': 0.218, 'co...\n",
       "7    {'neg': 0.035, 'neu': 0.748, 'pos': 0.217, 'co...\n",
       "8    {'neg': 0.0, 'neu': 1.0, 'pos': 0.0, 'compound...\n",
       "9    {'neg': 0.0, 'neu': 0.612, 'pos': 0.388, 'comp...\n",
       "Name: reviewText, dtype: object"
      ]
     },
     "execution_count": 40,
     "metadata": {},
     "output_type": "execute_result"
    }
   ],
   "source": [
    "df[\"reviewText\"][0:10].apply(lambda x: sia.polarity_scores(x))"
   ]
  },
  {
   "cell_type": "code",
   "execution_count": 41,
   "id": "3a9a9fb4-a0f1-499b-bc8b-1ecc3565560b",
   "metadata": {},
   "outputs": [
    {
     "data": {
      "text/plain": [
       "0   0.00\n",
       "1   0.00\n",
       "2   0.40\n",
       "3   0.40\n",
       "4   0.86\n",
       "5   0.00\n",
       "6   0.75\n",
       "7   0.81\n",
       "8   0.00\n",
       "9   0.82\n",
       "Name: reviewText, dtype: float64"
      ]
     },
     "execution_count": 41,
     "metadata": {},
     "output_type": "execute_result"
    }
   ],
   "source": [
    "df[\"reviewText\"][0:10].apply(lambda x: sia.polarity_scores(x)[\"compound\"])"
   ]
  },
  {
   "cell_type": "code",
   "execution_count": 42,
   "id": "617544be-ea7b-4414-b69a-bdc01fd68c13",
   "metadata": {},
   "outputs": [
    {
     "data": {
      "text/html": [
       "<div>\n",
       "<style scoped>\n",
       "    .dataframe tbody tr th:only-of-type {\n",
       "        vertical-align: middle;\n",
       "    }\n",
       "\n",
       "    .dataframe tbody tr th {\n",
       "        vertical-align: top;\n",
       "    }\n",
       "\n",
       "    .dataframe thead th {\n",
       "        text-align: right;\n",
       "    }\n",
       "</style>\n",
       "<table border=\"1\" class=\"dataframe\">\n",
       "  <thead>\n",
       "    <tr style=\"text-align: right;\">\n",
       "      <th></th>\n",
       "      <th>reviewerID</th>\n",
       "      <th>asin</th>\n",
       "      <th>reviewerName</th>\n",
       "      <th>helpful</th>\n",
       "      <th>reviewText</th>\n",
       "      <th>overall</th>\n",
       "      <th>summary</th>\n",
       "      <th>unixReviewTime</th>\n",
       "      <th>reviewTime</th>\n",
       "      <th>day_diff</th>\n",
       "      <th>helpful_yes</th>\n",
       "      <th>total_vote</th>\n",
       "      <th>polarity_score</th>\n",
       "    </tr>\n",
       "  </thead>\n",
       "  <tbody>\n",
       "    <tr>\n",
       "      <th>0</th>\n",
       "      <td>A3SBTW3WS4IQSN</td>\n",
       "      <td>B007WTAJTO</td>\n",
       "      <td>NaN</td>\n",
       "      <td>[0, 0]</td>\n",
       "      <td>issues.</td>\n",
       "      <td>4.00</td>\n",
       "      <td>Four Stars</td>\n",
       "      <td>1406073600</td>\n",
       "      <td>2014-07-23</td>\n",
       "      <td>138</td>\n",
       "      <td>0</td>\n",
       "      <td>0</td>\n",
       "      <td>0.00</td>\n",
       "    </tr>\n",
       "    <tr>\n",
       "      <th>1</th>\n",
       "      <td>A18K1ODH1I2MVB</td>\n",
       "      <td>B007WTAJTO</td>\n",
       "      <td>0mie</td>\n",
       "      <td>[0, 0]</td>\n",
       "      <td>purchas device, work advertised. never much ph...</td>\n",
       "      <td>5.00</td>\n",
       "      <td>MOAR SPACE!!!</td>\n",
       "      <td>1382659200</td>\n",
       "      <td>2013-10-25</td>\n",
       "      <td>409</td>\n",
       "      <td>0</td>\n",
       "      <td>0</td>\n",
       "      <td>0.00</td>\n",
       "    </tr>\n",
       "    <tr>\n",
       "      <th>2</th>\n",
       "      <td>A2FII3I2MBMUIA</td>\n",
       "      <td>B007WTAJTO</td>\n",
       "      <td>1K3</td>\n",
       "      <td>[0, 0]</td>\n",
       "      <td>work expected. sprung higher capacity. think m...</td>\n",
       "      <td>4.00</td>\n",
       "      <td>nothing to really say....</td>\n",
       "      <td>1356220800</td>\n",
       "      <td>2012-12-23</td>\n",
       "      <td>715</td>\n",
       "      <td>0</td>\n",
       "      <td>0</td>\n",
       "      <td>0.40</td>\n",
       "    </tr>\n",
       "    <tr>\n",
       "      <th>3</th>\n",
       "      <td>A3H99DFEG68SR</td>\n",
       "      <td>B007WTAJTO</td>\n",
       "      <td>1m2</td>\n",
       "      <td>[0, 0]</td>\n",
       "      <td>think work great.had diff. bran 64gb card went...</td>\n",
       "      <td>5.00</td>\n",
       "      <td>Great buy at this price!!!  *** UPDATE</td>\n",
       "      <td>1384992000</td>\n",
       "      <td>2013-11-21</td>\n",
       "      <td>382</td>\n",
       "      <td>0</td>\n",
       "      <td>0</td>\n",
       "      <td>0.40</td>\n",
       "    </tr>\n",
       "    <tr>\n",
       "      <th>4</th>\n",
       "      <td>A375ZM4U047O79</td>\n",
       "      <td>B007WTAJTO</td>\n",
       "      <td>2&amp;amp;1/2Men</td>\n",
       "      <td>[0, 0]</td>\n",
       "      <td>bought retail packaging, arriv legit, orang en...</td>\n",
       "      <td>5.00</td>\n",
       "      <td>best deal around</td>\n",
       "      <td>1373673600</td>\n",
       "      <td>2013-07-13</td>\n",
       "      <td>513</td>\n",
       "      <td>0</td>\n",
       "      <td>0</td>\n",
       "      <td>0.86</td>\n",
       "    </tr>\n",
       "  </tbody>\n",
       "</table>\n",
       "</div>"
      ],
      "text/plain": [
       "       reviewerID        asin  reviewerName helpful                                         reviewText  overall                                 summary  unixReviewTime  reviewTime  day_diff  \\\n",
       "0  A3SBTW3WS4IQSN  B007WTAJTO           NaN  [0, 0]                                            issues.     4.00                              Four Stars      1406073600  2014-07-23       138   \n",
       "1  A18K1ODH1I2MVB  B007WTAJTO          0mie  [0, 0]  purchas device, work advertised. never much ph...     5.00                           MOAR SPACE!!!      1382659200  2013-10-25       409   \n",
       "2  A2FII3I2MBMUIA  B007WTAJTO           1K3  [0, 0]  work expected. sprung higher capacity. think m...     4.00               nothing to really say....      1356220800  2012-12-23       715   \n",
       "3   A3H99DFEG68SR  B007WTAJTO           1m2  [0, 0]  think work great.had diff. bran 64gb card went...     5.00  Great buy at this price!!!  *** UPDATE      1384992000  2013-11-21       382   \n",
       "4  A375ZM4U047O79  B007WTAJTO  2&amp;1/2Men  [0, 0]  bought retail packaging, arriv legit, orang en...     5.00                        best deal around      1373673600  2013-07-13       513   \n",
       "\n",
       "   helpful_yes  total_vote  polarity_score  \n",
       "0            0           0            0.00  \n",
       "1            0           0            0.00  \n",
       "2            0           0            0.40  \n",
       "3            0           0            0.40  \n",
       "4            0           0            0.86  "
      ]
     },
     "execution_count": 42,
     "metadata": {},
     "output_type": "execute_result"
    }
   ],
   "source": [
    "df[\"polarity_score\"] = df[\"reviewText\"].apply(lambda x: sia.polarity_scores(x)[\"compound\"])\n",
    "df.head()"
   ]
  },
  {
   "cell_type": "code",
   "execution_count": 43,
   "id": "95173982-cfea-495d-968c-7023201abd8f",
   "metadata": {},
   "outputs": [
    {
     "data": {
      "text/plain": [
       "0    neg\n",
       "1    neg\n",
       "2    pos\n",
       "3    pos\n",
       "4    pos\n",
       "5    neg\n",
       "6    pos\n",
       "7    pos\n",
       "8    neg\n",
       "9    pos\n",
       "Name: reviewText, dtype: object"
      ]
     },
     "execution_count": 43,
     "metadata": {},
     "output_type": "execute_result"
    }
   ],
   "source": [
    "#Feature Prediction\n",
    "df[\"reviewText\"][0:10].apply(lambda x: \"pos\" if sia.polarity_scores(x)[\"compound\"] > 0 else \"neg\")"
   ]
  },
  {
   "cell_type": "code",
   "execution_count": 44,
   "id": "b4ee5654-c77d-4f9c-9164-4b031f496ca6",
   "metadata": {},
   "outputs": [
    {
     "data": {
      "text/html": [
       "<div>\n",
       "<style scoped>\n",
       "    .dataframe tbody tr th:only-of-type {\n",
       "        vertical-align: middle;\n",
       "    }\n",
       "\n",
       "    .dataframe tbody tr th {\n",
       "        vertical-align: top;\n",
       "    }\n",
       "\n",
       "    .dataframe thead th {\n",
       "        text-align: right;\n",
       "    }\n",
       "</style>\n",
       "<table border=\"1\" class=\"dataframe\">\n",
       "  <thead>\n",
       "    <tr style=\"text-align: right;\">\n",
       "      <th></th>\n",
       "      <th>reviewerID</th>\n",
       "      <th>asin</th>\n",
       "      <th>reviewerName</th>\n",
       "      <th>helpful</th>\n",
       "      <th>reviewText</th>\n",
       "      <th>overall</th>\n",
       "      <th>summary</th>\n",
       "      <th>unixReviewTime</th>\n",
       "      <th>reviewTime</th>\n",
       "      <th>day_diff</th>\n",
       "      <th>helpful_yes</th>\n",
       "      <th>total_vote</th>\n",
       "      <th>polarity_score</th>\n",
       "      <th>sentiment_label</th>\n",
       "    </tr>\n",
       "  </thead>\n",
       "  <tbody>\n",
       "    <tr>\n",
       "      <th>0</th>\n",
       "      <td>A3SBTW3WS4IQSN</td>\n",
       "      <td>B007WTAJTO</td>\n",
       "      <td>NaN</td>\n",
       "      <td>[0, 0]</td>\n",
       "      <td>issues.</td>\n",
       "      <td>4.00</td>\n",
       "      <td>Four Stars</td>\n",
       "      <td>1406073600</td>\n",
       "      <td>2014-07-23</td>\n",
       "      <td>138</td>\n",
       "      <td>0</td>\n",
       "      <td>0</td>\n",
       "      <td>0.00</td>\n",
       "      <td>neg</td>\n",
       "    </tr>\n",
       "    <tr>\n",
       "      <th>1</th>\n",
       "      <td>A18K1ODH1I2MVB</td>\n",
       "      <td>B007WTAJTO</td>\n",
       "      <td>0mie</td>\n",
       "      <td>[0, 0]</td>\n",
       "      <td>purchas device, work advertised. never much ph...</td>\n",
       "      <td>5.00</td>\n",
       "      <td>MOAR SPACE!!!</td>\n",
       "      <td>1382659200</td>\n",
       "      <td>2013-10-25</td>\n",
       "      <td>409</td>\n",
       "      <td>0</td>\n",
       "      <td>0</td>\n",
       "      <td>0.00</td>\n",
       "      <td>neg</td>\n",
       "    </tr>\n",
       "    <tr>\n",
       "      <th>2</th>\n",
       "      <td>A2FII3I2MBMUIA</td>\n",
       "      <td>B007WTAJTO</td>\n",
       "      <td>1K3</td>\n",
       "      <td>[0, 0]</td>\n",
       "      <td>work expected. sprung higher capacity. think m...</td>\n",
       "      <td>4.00</td>\n",
       "      <td>nothing to really say....</td>\n",
       "      <td>1356220800</td>\n",
       "      <td>2012-12-23</td>\n",
       "      <td>715</td>\n",
       "      <td>0</td>\n",
       "      <td>0</td>\n",
       "      <td>0.40</td>\n",
       "      <td>pos</td>\n",
       "    </tr>\n",
       "    <tr>\n",
       "      <th>3</th>\n",
       "      <td>A3H99DFEG68SR</td>\n",
       "      <td>B007WTAJTO</td>\n",
       "      <td>1m2</td>\n",
       "      <td>[0, 0]</td>\n",
       "      <td>think work great.had diff. bran 64gb card went...</td>\n",
       "      <td>5.00</td>\n",
       "      <td>Great buy at this price!!!  *** UPDATE</td>\n",
       "      <td>1384992000</td>\n",
       "      <td>2013-11-21</td>\n",
       "      <td>382</td>\n",
       "      <td>0</td>\n",
       "      <td>0</td>\n",
       "      <td>0.40</td>\n",
       "      <td>pos</td>\n",
       "    </tr>\n",
       "    <tr>\n",
       "      <th>4</th>\n",
       "      <td>A375ZM4U047O79</td>\n",
       "      <td>B007WTAJTO</td>\n",
       "      <td>2&amp;amp;1/2Men</td>\n",
       "      <td>[0, 0]</td>\n",
       "      <td>bought retail packaging, arriv legit, orang en...</td>\n",
       "      <td>5.00</td>\n",
       "      <td>best deal around</td>\n",
       "      <td>1373673600</td>\n",
       "      <td>2013-07-13</td>\n",
       "      <td>513</td>\n",
       "      <td>0</td>\n",
       "      <td>0</td>\n",
       "      <td>0.86</td>\n",
       "      <td>pos</td>\n",
       "    </tr>\n",
       "    <tr>\n",
       "      <th>5</th>\n",
       "      <td>A2IDCSC6NVONIZ</td>\n",
       "      <td>B007WTAJTO</td>\n",
       "      <td>2Cents!</td>\n",
       "      <td>[0, 0]</td>\n",
       "      <td>mini storage. anyth els suppos to. purchas add...</td>\n",
       "      <td>5.00</td>\n",
       "      <td>Not a lot to really be said</td>\n",
       "      <td>1367193600</td>\n",
       "      <td>2013-04-29</td>\n",
       "      <td>588</td>\n",
       "      <td>0</td>\n",
       "      <td>0</td>\n",
       "      <td>0.00</td>\n",
       "      <td>neg</td>\n",
       "    </tr>\n",
       "    <tr>\n",
       "      <th>6</th>\n",
       "      <td>A26YHXZD5UFPVQ</td>\n",
       "      <td>B007WTAJTO</td>\n",
       "      <td>2K1Toaster</td>\n",
       "      <td>[0, 0]</td>\n",
       "      <td>phone never skip beat. file transfer speedi co...</td>\n",
       "      <td>5.00</td>\n",
       "      <td>Works well</td>\n",
       "      <td>1382140800</td>\n",
       "      <td>2013-10-19</td>\n",
       "      <td>415</td>\n",
       "      <td>0</td>\n",
       "      <td>0</td>\n",
       "      <td>0.75</td>\n",
       "      <td>pos</td>\n",
       "    </tr>\n",
       "    <tr>\n",
       "      <th>7</th>\n",
       "      <td>A3CW0ZLUO5X2B1</td>\n",
       "      <td>B007WTAJTO</td>\n",
       "      <td>35-year Technology Consumer \"8-tracks to 802.11\"</td>\n",
       "      <td>[0, 0]</td>\n",
       "      <td>hard believ afford digit become. 32 gb devic o...</td>\n",
       "      <td>5.00</td>\n",
       "      <td>32 GB for less than two sawbucks...what's not ...</td>\n",
       "      <td>1404950400</td>\n",
       "      <td>2014-10-07</td>\n",
       "      <td>62</td>\n",
       "      <td>0</td>\n",
       "      <td>0</td>\n",
       "      <td>0.81</td>\n",
       "      <td>pos</td>\n",
       "    </tr>\n",
       "    <tr>\n",
       "      <th>8</th>\n",
       "      <td>A2CYJO155QP33S</td>\n",
       "      <td>B007WTAJTO</td>\n",
       "      <td>4evryoung</td>\n",
       "      <td>[1, 1]</td>\n",
       "      <td>work htc rezound. run short space 64gb sandisk...</td>\n",
       "      <td>5.00</td>\n",
       "      <td>Loads of room</td>\n",
       "      <td>1395619200</td>\n",
       "      <td>2014-03-24</td>\n",
       "      <td>259</td>\n",
       "      <td>1</td>\n",
       "      <td>1</td>\n",
       "      <td>0.00</td>\n",
       "      <td>neg</td>\n",
       "    </tr>\n",
       "    <tr>\n",
       "      <th>9</th>\n",
       "      <td>A2S7XG3ZC4VGOQ</td>\n",
       "      <td>B007WTAJTO</td>\n",
       "      <td>53rdcard</td>\n",
       "      <td>[0, 0]</td>\n",
       "      <td>galaxi s4, super fast card, total happy, happi...</td>\n",
       "      <td>5.00</td>\n",
       "      <td>works great</td>\n",
       "      <td>1381449600</td>\n",
       "      <td>2013-11-10</td>\n",
       "      <td>393</td>\n",
       "      <td>0</td>\n",
       "      <td>0</td>\n",
       "      <td>0.82</td>\n",
       "      <td>pos</td>\n",
       "    </tr>\n",
       "  </tbody>\n",
       "</table>\n",
       "</div>"
      ],
      "text/plain": [
       "       reviewerID        asin                                      reviewerName helpful                                         reviewText  overall  \\\n",
       "0  A3SBTW3WS4IQSN  B007WTAJTO                                               NaN  [0, 0]                                            issues.     4.00   \n",
       "1  A18K1ODH1I2MVB  B007WTAJTO                                              0mie  [0, 0]  purchas device, work advertised. never much ph...     5.00   \n",
       "2  A2FII3I2MBMUIA  B007WTAJTO                                               1K3  [0, 0]  work expected. sprung higher capacity. think m...     4.00   \n",
       "3   A3H99DFEG68SR  B007WTAJTO                                               1m2  [0, 0]  think work great.had diff. bran 64gb card went...     5.00   \n",
       "4  A375ZM4U047O79  B007WTAJTO                                      2&amp;1/2Men  [0, 0]  bought retail packaging, arriv legit, orang en...     5.00   \n",
       "5  A2IDCSC6NVONIZ  B007WTAJTO                                           2Cents!  [0, 0]  mini storage. anyth els suppos to. purchas add...     5.00   \n",
       "6  A26YHXZD5UFPVQ  B007WTAJTO                                        2K1Toaster  [0, 0]  phone never skip beat. file transfer speedi co...     5.00   \n",
       "7  A3CW0ZLUO5X2B1  B007WTAJTO  35-year Technology Consumer \"8-tracks to 802.11\"  [0, 0]  hard believ afford digit become. 32 gb devic o...     5.00   \n",
       "8  A2CYJO155QP33S  B007WTAJTO                                         4evryoung  [1, 1]  work htc rezound. run short space 64gb sandisk...     5.00   \n",
       "9  A2S7XG3ZC4VGOQ  B007WTAJTO                                          53rdcard  [0, 0]  galaxi s4, super fast card, total happy, happi...     5.00   \n",
       "\n",
       "                                             summary  unixReviewTime  reviewTime  day_diff  helpful_yes  total_vote  polarity_score sentiment_label  \n",
       "0                                         Four Stars      1406073600  2014-07-23       138            0           0            0.00             neg  \n",
       "1                                      MOAR SPACE!!!      1382659200  2013-10-25       409            0           0            0.00             neg  \n",
       "2                          nothing to really say....      1356220800  2012-12-23       715            0           0            0.40             pos  \n",
       "3             Great buy at this price!!!  *** UPDATE      1384992000  2013-11-21       382            0           0            0.40             pos  \n",
       "4                                   best deal around      1373673600  2013-07-13       513            0           0            0.86             pos  \n",
       "5                        Not a lot to really be said      1367193600  2013-04-29       588            0           0            0.00             neg  \n",
       "6                                         Works well      1382140800  2013-10-19       415            0           0            0.75             pos  \n",
       "7  32 GB for less than two sawbucks...what's not ...      1404950400  2014-10-07        62            0           0            0.81             pos  \n",
       "8                                      Loads of room      1395619200  2014-03-24       259            1           1            0.00             neg  \n",
       "9                                        works great      1381449600  2013-11-10       393            0           0            0.82             pos  "
      ]
     },
     "execution_count": 44,
     "metadata": {},
     "output_type": "execute_result"
    }
   ],
   "source": [
    "df[\"sentiment_label\"] = df[\"reviewText\"].apply(lambda x: \"pos\" if sia.polarity_scores(x)[\"compound\"] > 0 else \"neg\")\n",
    "df.head(10)"
   ]
  },
  {
   "cell_type": "code",
   "execution_count": 45,
   "id": "cca21f04-7213-48ca-9509-7b17e6738516",
   "metadata": {},
   "outputs": [
    {
     "data": {
      "text/plain": [
       "sentiment_label\n",
       "pos    3752\n",
       "neg    1163\n",
       "Name: count, dtype: int64"
      ]
     },
     "execution_count": 45,
     "metadata": {},
     "output_type": "execute_result"
    }
   ],
   "source": [
    "#ideating positive and negative sentiments in total\n",
    "df[\"sentiment_label\"].value_counts()"
   ]
  },
  {
   "cell_type": "code",
   "execution_count": 46,
   "id": "0b5ce809-162b-42ba-93cc-185ea71febb7",
   "metadata": {},
   "outputs": [],
   "source": [
    "df[\"sentiment_label\"] = LabelEncoder().fit_transform(df[\"sentiment_label\"])\n",
    "\n",
    "X = df[\"reviewText\"]\n",
    "y = df[\"sentiment_label\"]"
   ]
  },
  {
   "cell_type": "code",
   "execution_count": 47,
   "id": "fb1015b7-ae11-483b-85cb-4871163e54ef",
   "metadata": {},
   "outputs": [
    {
     "ename": "NameError",
     "evalue": "name 'corpus' is not defined",
     "output_type": "error",
     "traceback": [
      "\u001b[0;31m---------------------------------------------------------------------------\u001b[0m",
      "\u001b[0;31mNameError\u001b[0m                                 Traceback (most recent call last)",
      "\u001b[0;32m/tmp/ipykernel_14587/610940195.py\u001b[0m in \u001b[0;36m<module>\u001b[0;34m\u001b[0m\n\u001b[1;32m      1\u001b[0m \u001b[0;32mfrom\u001b[0m \u001b[0msklearn\u001b[0m\u001b[0;34m.\u001b[0m\u001b[0mfeature_extraction\u001b[0m\u001b[0;34m.\u001b[0m\u001b[0mtext\u001b[0m \u001b[0;32mimport\u001b[0m \u001b[0mTfidfVectorizer\u001b[0m\u001b[0;34m\u001b[0m\u001b[0;34m\u001b[0m\u001b[0m\n\u001b[1;32m      2\u001b[0m \u001b[0mvectorizer\u001b[0m \u001b[0;34m=\u001b[0m \u001b[0mTfidfVectorizer\u001b[0m\u001b[0;34m(\u001b[0m\u001b[0manalyzer\u001b[0m\u001b[0;34m=\u001b[0m\u001b[0;34m'word'\u001b[0m\u001b[0;34m)\u001b[0m\u001b[0;34m\u001b[0m\u001b[0;34m\u001b[0m\u001b[0m\n\u001b[0;32m----> 3\u001b[0;31m \u001b[0mX_w\u001b[0m \u001b[0;34m=\u001b[0m \u001b[0mvectorizer\u001b[0m\u001b[0;34m.\u001b[0m\u001b[0mfit_transform\u001b[0m\u001b[0;34m(\u001b[0m\u001b[0mcorpus\u001b[0m\u001b[0;34m)\u001b[0m\u001b[0;34m\u001b[0m\u001b[0;34m\u001b[0m\u001b[0m\n\u001b[0m\u001b[1;32m      4\u001b[0m \u001b[0mvectorizer\u001b[0m\u001b[0;34m.\u001b[0m\u001b[0mget_feature_names\u001b[0m\u001b[0;34m(\u001b[0m\u001b[0;34m)\u001b[0m\u001b[0;34m\u001b[0m\u001b[0;34m\u001b[0m\u001b[0m\n\u001b[1;32m      5\u001b[0m \u001b[0mX_w\u001b[0m\u001b[0;34m.\u001b[0m\u001b[0mtoarray\u001b[0m\u001b[0;34m(\u001b[0m\u001b[0;34m)\u001b[0m\u001b[0;34m\u001b[0m\u001b[0;34m\u001b[0m\u001b[0m\n",
      "\u001b[0;31mNameError\u001b[0m: name 'corpus' is not defined"
     ]
    }
   ],
   "source": [
    "from sklearn.feature_extraction.text import TfidfVectorizer\n",
    "vectorizer = TfidfVectorizer(analyzer='word')\n",
    "X_w = vectorizer.fit_transform(corpus)\n",
    "vectorizer.get_feature_names()\n",
    "X_w.toarray()"
   ]
  },
  {
   "cell_type": "code",
   "execution_count": 48,
   "id": "79dea5bc-5764-4fae-90cf-bcf984786873",
   "metadata": {},
   "outputs": [],
   "source": [
    "from sklearn.feature_extraction.text import CountVectorizer\n",
    "\n",
    "corpus = ['This is the first document.',\n",
    "          'This document is the second document.',\n",
    "          'And this is the third one.',\n",
    "          'Is this the first document?']"
   ]
  },
  {
   "cell_type": "code",
   "execution_count": 50,
   "id": "84150c37-0528-4f81-8394-0e3ffe355da4",
   "metadata": {},
   "outputs": [
    {
     "ename": "AttributeError",
     "evalue": "'CountVectorizer' object has no attribute 'get_feature_names'",
     "output_type": "error",
     "traceback": [
      "\u001b[0;31m---------------------------------------------------------------------------\u001b[0m",
      "\u001b[0;31mAttributeError\u001b[0m                            Traceback (most recent call last)",
      "\u001b[0;32m/tmp/ipykernel_14587/1703609001.py\u001b[0m in \u001b[0;36m<module>\u001b[0;34m\u001b[0m\n\u001b[1;32m      2\u001b[0m \u001b[0mX_count\u001b[0m \u001b[0;34m=\u001b[0m \u001b[0mvectorizer\u001b[0m\u001b[0;34m.\u001b[0m\u001b[0mfit_transform\u001b[0m\u001b[0;34m(\u001b[0m\u001b[0mX\u001b[0m\u001b[0;34m)\u001b[0m\u001b[0;34m\u001b[0m\u001b[0;34m\u001b[0m\u001b[0m\n\u001b[1;32m      3\u001b[0m \u001b[0;34m\u001b[0m\u001b[0m\n\u001b[0;32m----> 4\u001b[0;31m \u001b[0mvectorizer\u001b[0m\u001b[0;34m.\u001b[0m\u001b[0mget_feature_names\u001b[0m\u001b[0;34m(\u001b[0m\u001b[0;34m)\u001b[0m\u001b[0;34m[\u001b[0m\u001b[0;36m10\u001b[0m\u001b[0;34m:\u001b[0m\u001b[0;36m15\u001b[0m\u001b[0;34m]\u001b[0m\u001b[0;34m\u001b[0m\u001b[0;34m\u001b[0m\u001b[0m\n\u001b[0m\u001b[1;32m      5\u001b[0m \u001b[0mX_count\u001b[0m\u001b[0;34m.\u001b[0m\u001b[0mtoarray\u001b[0m\u001b[0;34m(\u001b[0m\u001b[0;34m)\u001b[0m\u001b[0;34m[\u001b[0m\u001b[0;36m10\u001b[0m\u001b[0;34m:\u001b[0m\u001b[0;36m15\u001b[0m\u001b[0;34m]\u001b[0m\u001b[0;34m\u001b[0m\u001b[0;34m\u001b[0m\u001b[0m\n",
      "\u001b[0;31mAttributeError\u001b[0m: 'CountVectorizer' object has no attribute 'get_feature_names'"
     ]
    }
   ],
   "source": [
    "vectorizer = CountVectorizer()\n",
    "X_count = vectorizer.fit_transform(X)\n",
    "\n",
    "vectorizer.get_feature_names()[10:15]\n",
    "X_count.toarray()[10:15]"
   ]
  },
  {
   "cell_type": "code",
   "execution_count": 51,
   "id": "c17d5860-3c76-471d-9c38-d778eaf3b1c3",
   "metadata": {},
   "outputs": [
    {
     "ename": "NameError",
     "evalue": "name 'X_tf_idf_word' is not defined",
     "output_type": "error",
     "traceback": [
      "\u001b[0;31m---------------------------------------------------------------------------\u001b[0m",
      "\u001b[0;31mNameError\u001b[0m                                 Traceback (most recent call last)",
      "\u001b[0;32m/tmp/ipykernel_14587/2083172764.py\u001b[0m in \u001b[0;36m<module>\u001b[0;34m\u001b[0m\n\u001b[1;32m      1\u001b[0m \u001b[0;31m#MODEL\u001b[0m\u001b[0;34m\u001b[0m\u001b[0;34m\u001b[0m\u001b[0m\n\u001b[0;32m----> 2\u001b[0;31m \u001b[0mlog_model\u001b[0m \u001b[0;34m=\u001b[0m \u001b[0mLogisticRegression\u001b[0m\u001b[0;34m(\u001b[0m\u001b[0;34m)\u001b[0m\u001b[0;34m.\u001b[0m\u001b[0mfit\u001b[0m\u001b[0;34m(\u001b[0m\u001b[0mX_tf_idf_word\u001b[0m\u001b[0;34m,\u001b[0m \u001b[0my\u001b[0m\u001b[0;34m)\u001b[0m\u001b[0;34m\u001b[0m\u001b[0;34m\u001b[0m\u001b[0m\n\u001b[0m\u001b[1;32m      3\u001b[0m \u001b[0;34m\u001b[0m\u001b[0m\n\u001b[1;32m      4\u001b[0m cross_val_score(log_model,\n\u001b[1;32m      5\u001b[0m                 \u001b[0mX_tf_idf_word\u001b[0m\u001b[0;34m,\u001b[0m\u001b[0;34m\u001b[0m\u001b[0;34m\u001b[0m\u001b[0m\n",
      "\u001b[0;31mNameError\u001b[0m: name 'X_tf_idf_word' is not defined"
     ]
    }
   ],
   "source": [
    "#MODEL\n",
    "log_model = LogisticRegression().fit(X_tf_idf_word, y)\n",
    "\n",
    "cross_val_score(log_model,\n",
    "                X_tf_idf_word,\n",
    "                y, scoring=\"accuracy\",\n",
    "                cv=5).mean()\n",
    "\n",
    "yeni_yorum = pd.Series(\"this product is great\")\n",
    "yeni_yorum = pd.Series(\"look at that shit very bad\")\n",
    "yeni_yorum = pd.Series(\"it was good but I am sure that it fits me\")\n",
    "\n",
    "yeni_yorum = CountVectorizer().fit(X).transform(yeni_yorum)\n",
    "log_model.predict(yeni_yorum)"
   ]
  },
  {
   "cell_type": "code",
   "execution_count": 52,
   "id": "c52f756a-1386-4713-85cb-75a541e6f99e",
   "metadata": {},
   "outputs": [
    {
     "ename": "AttributeError",
     "evalue": "'CountVectorizer' object has no attribute 'get_feature_names'",
     "output_type": "error",
     "traceback": [
      "\u001b[0;31m---------------------------------------------------------------------------\u001b[0m",
      "\u001b[0;31mAttributeError\u001b[0m                            Traceback (most recent call last)",
      "\u001b[0;32m/tmp/ipykernel_14587/1703609001.py\u001b[0m in \u001b[0;36m<module>\u001b[0;34m\u001b[0m\n\u001b[1;32m      2\u001b[0m \u001b[0mX_count\u001b[0m \u001b[0;34m=\u001b[0m \u001b[0mvectorizer\u001b[0m\u001b[0;34m.\u001b[0m\u001b[0mfit_transform\u001b[0m\u001b[0;34m(\u001b[0m\u001b[0mX\u001b[0m\u001b[0;34m)\u001b[0m\u001b[0;34m\u001b[0m\u001b[0;34m\u001b[0m\u001b[0m\n\u001b[1;32m      3\u001b[0m \u001b[0;34m\u001b[0m\u001b[0m\n\u001b[0;32m----> 4\u001b[0;31m \u001b[0mvectorizer\u001b[0m\u001b[0;34m.\u001b[0m\u001b[0mget_feature_names\u001b[0m\u001b[0;34m(\u001b[0m\u001b[0;34m)\u001b[0m\u001b[0;34m[\u001b[0m\u001b[0;36m10\u001b[0m\u001b[0;34m:\u001b[0m\u001b[0;36m15\u001b[0m\u001b[0;34m]\u001b[0m\u001b[0;34m\u001b[0m\u001b[0;34m\u001b[0m\u001b[0m\n\u001b[0m\u001b[1;32m      5\u001b[0m \u001b[0mX_count\u001b[0m\u001b[0;34m.\u001b[0m\u001b[0mtoarray\u001b[0m\u001b[0;34m(\u001b[0m\u001b[0;34m)\u001b[0m\u001b[0;34m[\u001b[0m\u001b[0;36m10\u001b[0m\u001b[0;34m:\u001b[0m\u001b[0;36m15\u001b[0m\u001b[0;34m]\u001b[0m\u001b[0;34m\u001b[0m\u001b[0;34m\u001b[0m\u001b[0m\n",
      "\u001b[0;31mAttributeError\u001b[0m: 'CountVectorizer' object has no attribute 'get_feature_names'"
     ]
    }
   ],
   "source": [
    "vectorizer = CountVectorizer()\n",
    "X_count = vectorizer.fit_transform(X)\n",
    "\n",
    "vectorizer.get_feature_names()[10:15]\n",
    "X_count.toarray()[10:15]"
   ]
  },
  {
   "cell_type": "code",
   "execution_count": 53,
   "id": "45b93dab-6bf7-4fd9-8eea-d0b0dde145e2",
   "metadata": {},
   "outputs": [
    {
     "data": {
      "text/plain": [
       "0    alway pleas sandisk product one exception. wor...\n",
       "dtype: object"
      ]
     },
     "execution_count": 53,
     "metadata": {},
     "output_type": "execute_result"
    }
   ],
   "source": [
    "random_review = pd.Series(df[\"reviewText\"].sample(1).values)\n",
    "random_review"
   ]
  },
  {
   "cell_type": "code",
   "execution_count": 54,
   "id": "741f6c79-1a0f-4a85-8a29-40e8a32eb71d",
   "metadata": {},
   "outputs": [
    {
     "data": {
      "text/plain": [
       "0.8280773143438453"
      ]
     },
     "execution_count": 54,
     "metadata": {},
     "output_type": "execute_result"
    }
   ],
   "source": [
    "#Count Vectors\n",
    "rf_model = RandomForestClassifier().fit(X_count, y)\n",
    "cross_val_score(rf_model, X_count, y, cv=5, n_jobs=-1).mean()"
   ]
  },
  {
   "cell_type": "code",
   "execution_count": null,
   "id": "58907470-a057-4477-b828-41635676a101",
   "metadata": {},
   "outputs": [
    {
     "name": "stdout",
     "output_type": "stream",
     "text": [
      "Fitting 5 folds for each of 108 candidates, totalling 540 fits\n"
     ]
    }
   ],
   "source": [
    "rf_model = RandomForestClassifier(random_state=17)\n",
    "\n",
    "rf_params = {\"max_depth\": [5, 8, None],\n",
    "             \"max_features\": [5, 7, \"auto\"],\n",
    "             \"min_samples_split\": [2, 5, 8, 20],\n",
    "             \"n_estimators\": [100, 200, 500]}\n",
    "\n",
    "rf_best_grid = GridSearchCV(rf_model,\n",
    "                            rf_params,\n",
    "                            cv=5,\n",
    "                            n_jobs=-1,\n",
    "                            verbose=True).fit(X_count, y)\n",
    "\n",
    "rf_best_grid.best_params_\n",
    "rf_final = rf_model.set_params(**rf_best_grid.best_params_, random_state=17).fit(X_count, y)\n",
    "cv_results = cross_validate(rf_final, X_count, y, cv=3, scoring=[\"accuracy\", \"f1\", \"roc_auc\"])"
   ]
  },
  {
   "cell_type": "code",
   "execution_count": null,
   "id": "dffb427e-98df-43c3-b061-c970d150a91c",
   "metadata": {},
   "outputs": [],
   "source": [
    "cv_results = cross_validate(rf_final, X_count, y, cv=3, scoring=[\"accuracy\", \"f1\", \"roc_auc\"])"
   ]
  },
  {
   "cell_type": "code",
   "execution_count": null,
   "id": "c392b30e-4c97-41a4-af30-b7b9bb7b4352",
   "metadata": {},
   "outputs": [],
   "source": []
  }
 ],
 "metadata": {
  "kernelspec": {
   "display_name": "Python 3 (ipykernel)",
   "language": "python",
   "name": "python3"
  },
  "language_info": {
   "codemirror_mode": {
    "name": "ipython",
    "version": 3
   },
   "file_extension": ".py",
   "mimetype": "text/x-python",
   "name": "python",
   "nbconvert_exporter": "python",
   "pygments_lexer": "ipython3",
   "version": "3.10.12"
  }
 },
 "nbformat": 4,
 "nbformat_minor": 5
}
